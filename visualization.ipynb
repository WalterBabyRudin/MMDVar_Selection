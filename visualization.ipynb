{
 "cells": [
  {
   "cell_type": "code",
   "execution_count": 33,
   "metadata": {},
   "outputs": [
    {
     "data": {
      "image/png": "[encoded data removed]",
      "text/plain": [
       "<Figure size 432x432 with 1 Axes>"
      ]
     },
     "metadata": {
      "needs_background": "light"
     },
     "output_type": "display_data"
    }
   ],
   "source": [
    "import numpy as np\n",
    "import cvxpy as cp\n",
    "from numpy.lib import utils\n",
    "import torch\n",
    "import scipy.spatial\n",
    "import time\n",
    "from scipy.stats import wishart\n",
    "from sklearn import metrics\n",
    "\n",
    "from scipy.sparse.linalg import eigs\n",
    "from scipy import linalg\n",
    "import Optimization.MIQP_solver as MIQP_solver\n",
    "from numpy import linalg as LA\n",
    "from mlxtend.data import loadlocal_mnist\n",
    "import matplotlib.pyplot as plt\n",
    "\n",
    "dtype = torch.float\n",
    "device = torch.device(\"cpu\")\n",
    "\n",
    "Feature_Tr, label_Tr = loadlocal_mnist(\n",
    "            images_path='MNIST/train-images.idx3-ubyte', \n",
    "            labels_path='MNIST/train-labels.idx1-ubyte')\n",
    "Feature_Te, label_Te = loadlocal_mnist(\n",
    "            images_path='MNIST/t10k-images.idx3-ubyte', \n",
    "            labels_path='MNIST/t10k-labels.idx1-ubyte')\n",
    "\n",
    "id_digit_0_Te = np.where(label_Te == 0)[0]\n",
    "id_digit_6_Te = np.where(label_Te == 6)[0]\n",
    "\n",
    "id_digit_0_Tr = np.where(label_Tr == 0)[0]\n",
    "id_digit_6_Tr = np.where(label_Tr == 6)[0]\n",
    "\n",
    "Feature_digit_0_Te = Feature_Te[id_digit_0_Te]\n",
    "Feature_digit_6_Te = Feature_Te[id_digit_6_Te]\n",
    "Feature_digit_0_Tr = Feature_Tr[id_digit_0_Tr]\n",
    "Feature_digit_6_Tr = Feature_Tr[id_digit_6_Tr]\n",
    "\n",
    "\n",
    "\n",
    "\n",
    "\n",
    "fig, axes = plt.subplots(figsize=(6,6))\n",
    "\n",
    "############## Diagnoal Gaussian Shift ############## \n",
    "axes.imshow(Feature_digit_0_Te[0].reshape([28,28]), cmap=plt.get_cmap('viridis'))\n",
    "plt.show()\n",
    "\n",
    "\n"
   ]
  },
  {
   "cell_type": "code",
   "execution_count": 38,
   "metadata": {},
   "outputs": [
    {
     "name": "stderr",
     "output_type": "stream",
     "text": [
      "/Users/walter_rudin/anaconda3/lib/python3.6/site-packages/ipykernel_launcher.py:19: RuntimeWarning: overflow encountered in ubyte_scalars\n"
     ]
    }
   ],
   "source": [
    "################################################################################\n",
    "# Training Proecss\n",
    "################################################################################\n",
    "# pre-process data\n",
    "def sigmoid(x):\n",
    "    return 1 / (1 + np.exp(-x))\n",
    "def convolution(my_Feature):\n",
    "    N,D = my_Feature.shape\n",
    "    Feature_conv = np.zeros([N, 169])\n",
    "    for k in range(N):\n",
    "        Feature_mat_k = my_Feature[k].reshape([28,28])\n",
    "    \n",
    "        Feature_conv_k = []\n",
    "        for i in range(13):\n",
    "            for j in range(13):\n",
    "                central_ij = Feature_mat_k[i*2+1][j*2+1]\n",
    "                \n",
    "                Feature_conv_k_ij = central_ij*8 - (Feature_mat_k[i*2][j*2+1] + Feature_mat_k[i*2+1][j*2] + Feature_mat_k[i*2+2][j*2+1] + Feature_mat_k[i*2+1][j*2+2] + Feature_mat_k[i*2+2][j*2+2] + Feature_mat_k[i*2][j*2]\n",
    "                             + Feature_mat_k[i*2][j*2+2] + Feature_mat_k[i*2+2][j*2])\n",
    "                #print(Feature_conv_k_ij)\n",
    "                Feature_conv_k.append(Feature_conv_k_ij)\n",
    "        \n",
    "        Feature_conv_k = np.array(Feature_conv_k)\n",
    "        Feature_conv[k, :] = Feature_conv_k\n",
    "    return Feature_conv\n",
    "\n",
    "def nan_imputation(a):\n",
    "    return np.where(np.isnan(a), np.ma.array(a, mask=np.isnan(a)).mean(axis=1)[:, np.newaxis], a)\n",
    "\n",
    "\n",
    "Feature_digit_0_Tr_small = Feature_digit_0_Tr[:20]\n",
    "Feature_digit_6_Tr_small = Feature_digit_6_Tr[:20]\n",
    "Feature_digit_0_Te_small = Feature_digit_0_Te[:5]\n",
    "Feature_digit_6_Te_small = Feature_digit_6_Te[:5]\n",
    "\n",
    "Feature_digit_0_Tr_small_conv = sigmoid(nan_imputation(convolution(Feature_digit_0_Tr_small)))\n",
    "Feature_digit_6_Tr_small_conv = sigmoid(nan_imputation(convolution(Feature_digit_6_Tr_small)))\n",
    "Feature_digit_0_Te_small_conv = sigmoid(nan_imputation(convolution(Feature_digit_0_Te_small)))\n",
    "Feature_digit_6_Te_small_conv = sigmoid(nan_imputation(convolution(Feature_digit_6_Te_small)))\n",
    "\n",
    "\n",
    "\n",
    "\n",
    "\n"
   ]
  },
  {
   "cell_type": "code",
   "execution_count": 39,
   "metadata": {},
   "outputs": [
    {
     "name": "stderr",
     "output_type": "stream",
     "text": [
      "/Users/walter_rudin/Dropbox (Personal)/MMD_Optimization/0110/0808/Optimization/MIQP_solver.py:77: ComplexWarning: Casting complex values to real discards the imaginary part\n",
      "  v_i[A_i_idx[j]] = A_i[A_i_idx[j]]\n",
      "/Users/walter_rudin/anaconda3/lib/python3.6/site-packages/scipy/sparse/linalg/eigen/arpack/arpack.py:1254: RuntimeWarning: k >= N - 1 for N * N square matrix. Attempting to use scipy.linalg.eig instead.\n",
      "  RuntimeWarning)\n"
     ]
    },
    {
     "name": "stdout",
     "output_type": "stream",
     "text": [
      "[ 32  44  57  71  73  74  84  99 101 111 112 114 121 124 126]\n",
      "[[ 6.  2.]\n",
      " [ 5.  3.]\n",
      " [ 5.  4.]\n",
      " [ 6.  5.]\n",
      " [ 8.  5.]\n",
      " [ 9.  5.]\n",
      " [ 6.  6.]\n",
      " [ 8.  7.]\n",
      " [10.  7.]\n",
      " [ 7.  8.]\n",
      " [ 8.  8.]\n",
      " [10.  8.]\n",
      " [ 4.  9.]\n",
      " [ 7.  9.]\n",
      " [ 9.  9.]]\n"
     ]
    }
   ],
   "source": [
    "import numpy as np\n",
    "import cvxpy as cp\n",
    "from numpy.lib import utils\n",
    "import torch\n",
    "import scipy.spatial\n",
    "import utils_revision as utils\n",
    "import time\n",
    "from scipy.stats import wishart\n",
    "from sklearn import metrics\n",
    "from numpy import linalg as LA\n",
    "from scipy.sparse.linalg import eigs\n",
    "import Optimization.Linear_MMD_revision as Linear_MMD\n",
    "import Optimization.MIQP_solver as MIQP_solver\n",
    "import Optimization.Quadratic_MMD_revision as Quadratic_MMD\n",
    "import Optimization.Gaussian_MMD_revision as Gaussian_MMD\n",
    "np.random.seed(1)\n",
    "\n",
    "\n",
    "\n",
    "\n",
    "z0 = np.ones([169,1])\n",
    "sigma = 0.5\n",
    "Lambda = 0.5\n",
    "tau = 0.1\n",
    "d_proj = 15\n",
    "\n",
    "z_Gaussian_MMD1, obj_z_Gaussian_MMD1 = Gaussian_MMD.GMMD_training_revision(Feature_digit_0_Tr_small_conv, Feature_digit_6_Tr_small_conv, sigma, Lambda, d=d_proj, z0=z0, tau0=tau, num_epoch=1)\n",
    "\n",
    "idx = np.nonzero(z_Gaussian_MMD1)\n",
    "\n",
    "print(idx[0])\n",
    "\n",
    "\n",
    "idx_mat = np.zeros([d_proj, 2])\n",
    "\n",
    "for i in range(d_proj):\n",
    "    idx_i = idx[0][i]\n",
    "\n",
    "    idx_i_y = idx_i // 13\n",
    "    idx_i_x = idx_i % 13\n",
    "\n",
    "    idx_mat[i][0] = idx_i_x\n",
    "    idx_mat[i][1] = idx_i_y\n",
    "print(idx_mat)\n",
    "\n",
    "\n",
    "\n",
    "\n",
    "\n",
    "\n",
    "\n"
   ]
  },
  {
   "cell_type": "code",
   "execution_count": 40,
   "metadata": {},
   "outputs": [
    {
     "data": {
      "image/png": "[encoded data removed]",
      "text/plain": [
       "<Figure size 432x432 with 1 Axes>"
      ]
     },
     "metadata": {
      "needs_background": "light"
     },
     "output_type": "display_data"
    },
    {
     "data": {
      "image/png": "[encoded data removed]",
      "text/plain": [
       "<Figure size 432x432 with 1 Axes>"
      ]
     },
     "metadata": {
      "needs_background": "light"
     },
     "output_type": "display_data"
    }
   ],
   "source": [
    "\n",
    "\n",
    "import matplotlib.patches as patches\n",
    "\n",
    "fig, axes = plt.subplots(figsize=(6,6))\n",
    "\n",
    "############## Diagnoal Gaussian Shift ############## \n",
    "axes.imshow(Feature_digit_0_Te[0].reshape([28,28]), cmap=plt.get_cmap('viridis'))\n",
    "\n",
    "#axes.imshow(Feature_digit_6_Te[0].reshape([28,28]), cmap=plt.get_cmap('viridis'))\n",
    "for i in range(d_proj):\n",
    "\n",
    "    axes.add_patch(\n",
    "        patches.Rectangle(\n",
    "            xy=(idx_mat[i][0]*2+1, idx_mat[i][1]*2+1),  # point of origin.\n",
    "            width=1, height=1, linewidth=1,\n",
    "            color='red', fill=True))\n",
    "plt.axis('off')\n",
    "plt.savefig(\"detection_digit_0.pdf\",bbox_inches='tight')\n",
    "\n",
    "\n",
    "\n",
    "\n",
    "\n",
    "fig, axes = plt.subplots(figsize=(6,6))\n",
    "\n",
    "############## Diagnoal Gaussian Shift ############## \n",
    "axes.imshow(Feature_digit_6_Te[0].reshape([28,28]), cmap=plt.get_cmap('viridis'))\n",
    "\n",
    "#axes.imshow(Feature_digit_6_Te[0].reshape([28,28]), cmap=plt.get_cmap('viridis'))\n",
    "for i in range(d_proj):\n",
    "\n",
    "    axes.add_patch(\n",
    "        patches.Rectangle(\n",
    "            xy=(idx_mat[i][0]*2+1, idx_mat[i][1]*2+1),  # point of origin.\n",
    "            width=1, height=1, linewidth=1,\n",
    "            color='red', fill=True))\n",
    "plt.axis('off')\n",
    "plt.savefig(\"detection_digit_6.pdf\",bbox_inches='tight')\n",
    "\n",
    "\n",
    "\n"
   ]
  },
  {
   "cell_type": "code",
   "execution_count": 42,
   "metadata": {},
   "outputs": [
    {
     "name": "stdout",
     "output_type": "stream",
     "text": [
      "pval:  0.009999999776482582 \t Decision:  1\n"
     ]
    }
   ],
   "source": [
    "p_val, decision =  Gaussian_MMD.GMMD_testing_revision(Feature_digit_0_Te_small_conv, Feature_digit_6_Te_small_conv, z_Gaussian_MMD1, sigma)\n",
    "print('pval: ', p_val, '\\t Decision: ',decision)\n",
    "\n",
    "\n",
    "\n",
    "# print(1 - p_val)"
   ]
  },
  {
   "cell_type": "code",
   "execution_count": 30,
   "metadata": {},
   "outputs": [
    {
     "data": {
      "image/png": "[encoded data removed]",
      "text/plain": [
       "<Figure size 432x432 with 1 Axes>"
      ]
     },
     "metadata": {
      "needs_background": "light"
     },
     "output_type": "display_data"
    },
    {
     "data": {
      "image/png": "[encoded data removed]",
      "text/plain": [
       "<Figure size 432x432 with 1 Axes>"
      ]
     },
     "metadata": {
      "needs_background": "light"
     },
     "output_type": "display_data"
    }
   ],
   "source": [
    "\n",
    "fig, axes = plt.subplots(figsize=(6,6))\n",
    "\n",
    "############## Diagnoal Gaussian Shift ############## \n",
    "axes.imshow(Feature_digit_0_Te[0].reshape([28,28]), cmap=plt.get_cmap('viridis'))\n",
    "plt.axis('off')\n",
    "\n",
    "\n",
    "plt.savefig(\"digit0_origin.pdf\",bbox_inches='tight')\n",
    "\n",
    "\n",
    "fig, axes = plt.subplots(figsize=(6,6))\n",
    "\n",
    "############## Diagnoal Gaussian Shift ############## \n",
    "axes.imshow(Feature_digit_6_Te[0].reshape([28,28]), cmap=plt.get_cmap('viridis'))\n",
    "plt.axis('off')\n",
    "\n",
    "plt.savefig(\"digit6_origin.pdf\",bbox_inches='tight')\n"
   ]
  },
  {
   "cell_type": "code",
   "execution_count": null,
   "metadata": {},
   "outputs": [],
   "source": []
  }
 ],
 "metadata": {
  "hide_input": false,
  "kernelspec": {
   "display_name": "base",
   "language": "python",
   "name": "python3"
  },
  "language_info": {
   "codemirror_mode": {
    "name": "ipython",
    "version": 3
   },
   "file_extension": ".py",
   "mimetype": "text/x-python",
   "name": "python",
   "nbconvert_exporter": "python",
   "pygments_lexer": "ipython3",
   "version": "3.6.5"
  },
  "vscode": {
   "interpreter": {
    "hash": "5a17a2188f66f3fff4c974b780ac6864e545dac991e912a441ea6c69427862e0"
   }
  }
 },
 "nbformat": 4,
 "nbformat_minor": 2
}
